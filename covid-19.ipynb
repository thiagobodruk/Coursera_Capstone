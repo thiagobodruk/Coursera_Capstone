{
  "cells": [
    {
      "cell_type": "code",
      "source": [
        "import re, requests, string\n",
        "import pandas as pd, numpy as np, seaborn as sns, matplotlib.pyplot as plt\n",
        "from bs4 import BeautifulSoup\n",
        "from sklearn import preprocessing\n",
        "from pywaffle import Waffle"
      ],
      "outputs": [],
      "execution_count": 209,
      "metadata": {
        "collapsed": false,
        "jupyter": {
          "source_hidden": false,
          "outputs_hidden": false
        },
        "nteract": {
          "transient": {
            "deleting": false
          }
        },
        "execution": {
          "iopub.status.busy": "2020-03-19T01:29:01.841Z",
          "iopub.execute_input": "2020-03-19T01:29:01.845Z",
          "iopub.status.idle": "2020-03-19T01:29:01.849Z",
          "shell.execute_reply": "2020-03-19T01:29:01.853Z"
        }
      }
    },
    {
      "cell_type": "markdown",
      "source": [
        "# COVID-19 and the public health care around the world\n",
        "## Cities Dataset Pre-processing"
      ],
      "metadata": {
        "nteract": {
          "transient": {
            "deleting": false
          }
        }
      }
    },
    {
      "cell_type": "markdown",
      "source": [
        "First, we need to read the cities dataset from the [Wikipedia](https://en.wikipedia.org/wiki/List_of_largest_cities)."
      ],
      "metadata": {
        "nteract": {
          "transient": {
            "deleting": false
          }
        }
      }
    },
    {
      "cell_type": "code",
      "source": [
        "wiki_cities = 'https://en.wikipedia.org/wiki/List_of_largest_cities'\n",
        "cities_rq = requests.get(wiki_cities)"
      ],
      "outputs": [],
      "execution_count": 66,
      "metadata": {
        "collapsed": false,
        "jupyter": {
          "source_hidden": false,
          "outputs_hidden": false
        },
        "nteract": {
          "transient": {
            "deleting": false
          }
        },
        "execution": {
          "iopub.status.busy": "2020-03-19T00:11:44.244Z",
          "iopub.execute_input": "2020-03-19T00:11:44.247Z",
          "iopub.status.idle": "2020-03-19T00:11:45.821Z",
          "shell.execute_reply": "2020-03-19T00:11:45.824Z"
        }
      }
    },
    {
      "cell_type": "markdown",
      "source": [
        "The following snippet pre-process the dataframe, forces the `int` type for numeric columns and removes invalid values."
      ],
      "metadata": {
        "nteract": {
          "transient": {
            "deleting": false
          }
        }
      }
    },
    {
      "cell_type": "code",
      "source": [
        "soup_cities = BeautifulSoup(cities_rq.text, 'html.parser')\n",
        "table_cities = soup_cities.find_all('table')[1]\n",
        "cities_df = pd.read_html(str(table_cities))[0]\n",
        "\n",
        "# Removes columns multindex, renames and capitalizes the labels\n",
        "cities_df.columns = cities_df.columns.map(' '.join).str.strip(' ')\n",
        "cities_df.columns = map(lambda x: string.capwords(x), cities_df.columns)\n",
        "cities_df.rename(columns={'City City': 'City', 'Country Country': 'Country', 'Skyline Skyline': 'Skyline','City Proper Definition': 'City Definition', 'City Proper Population': 'City Population', 'City Proper Area(km2)': 'City Area(km2)','Urban Area[9] Population': 'Urban Population','Urban Area[9] Area(km2)': 'Urban Area(km2)', 'Metropolitan Area Area(km2)': 'Metropolitan Area(km2)', 'Metropolitan Area Population': 'Metropolitan Population'}, inplace = True)\n",
        "\n",
        "# Removes invalid characters from the columns\n",
        "for col in ['City Population','City Area(km2)', 'Metropolitan Population','Metropolitan Area(km2)', 'Urban Area(km2)']: \n",
        "    cities_df[col] = cities_df[col].str.replace(r'\\[[0-9A-Za-z]+\\]', '')\n",
        "    \n",
        "# Process invalid values\n",
        "cities_df['Metropolitan Population'].fillna(cities_df['City Population'], inplace=True)\n",
        "cities_df['Metropolitan Area(km2)'].fillna(cities_df['City Area(km2)'], inplace=True)\n",
        "cities_df.dropna(subset=['City Population'], inplace=True)\n",
        "cities_df.drop(columns=['Skyline'], inplace=True)\n",
        "\n",
        "# Forces int type for numeric columns\n",
        "for col in ['City Population', 'City Area(km2)', 'Metropolitan Population', 'Metropolitan Area(km2)', 'Urban Area(km2)']:\n",
        "    cities_df[col] = cities_df[col].str.replace(',', '').astype(int)\n",
        "    \n",
        "cities_df = cities_df.sort_values(by='City Population', ascending=False).reset_index(drop=True)"
      ],
      "outputs": [],
      "execution_count": 67,
      "metadata": {
        "collapsed": false,
        "jupyter": {
          "source_hidden": false,
          "outputs_hidden": false
        },
        "nteract": {
          "transient": {
            "deleting": false
          }
        },
        "execution": {
          "iopub.status.busy": "2020-03-19T00:11:51.914Z",
          "iopub.execute_input": "2020-03-19T00:11:51.920Z",
          "iopub.status.idle": "2020-03-19T00:11:52.309Z",
          "shell.execute_reply": "2020-03-19T00:11:52.312Z"
        }
      }
    },
    {
      "cell_type": "code",
      "source": [
        "cities_df.head()"
      ],
      "outputs": [
        {
          "output_type": "execute_result",
          "execution_count": 143,
          "data": {
            "text/plain": [
              "        City Country             City Definition  City Population  \\\n",
              "0  Chongqing   China                Municipality         30752000   \n",
              "1   Shanghai   China                Municipality         24183000   \n",
              "2    Beijing   China                Municipality         21707000   \n",
              "3      Delhi   India  National capital territory         16753235   \n",
              "4    Chengdu   China       City (sub-provincial)         16044700   \n",
              "\n",
              "   City Area(km2)  Metropolitan Population  Metropolitan Area(km2)  \\\n",
              "0           82403                 30752000                   82403   \n",
              "1            6341                 24183000                    6341   \n",
              "2           16411                 21707000                   16411   \n",
              "3            1484                 29000000                    3483   \n",
              "4           14378                 16044700                   14378   \n",
              "\n",
              "   Urban Population  Urban Area(km2)  \n",
              "0           8300000             1489  \n",
              "1          22125000             4015  \n",
              "2          19430000             4144  \n",
              "3          28125000             2240  \n",
              "4          12160000             1813  "
            ],
            "text/html": [
              "<div>\n",
              "<style scoped>\n",
              "    .dataframe tbody tr th:only-of-type {\n",
              "        vertical-align: middle;\n",
              "    }\n",
              "\n",
              "    .dataframe tbody tr th {\n",
              "        vertical-align: top;\n",
              "    }\n",
              "\n",
              "    .dataframe thead th {\n",
              "        text-align: right;\n",
              "    }\n",
              "</style>\n",
              "<table border=\"1\" class=\"dataframe\">\n",
              "  <thead>\n",
              "    <tr style=\"text-align: right;\">\n",
              "      <th></th>\n",
              "      <th>City</th>\n",
              "      <th>Country</th>\n",
              "      <th>City Definition</th>\n",
              "      <th>City Population</th>\n",
              "      <th>City Area(km2)</th>\n",
              "      <th>Metropolitan Population</th>\n",
              "      <th>Metropolitan Area(km2)</th>\n",
              "      <th>Urban Population</th>\n",
              "      <th>Urban Area(km2)</th>\n",
              "    </tr>\n",
              "  </thead>\n",
              "  <tbody>\n",
              "    <tr>\n",
              "      <th>0</th>\n",
              "      <td>Chongqing</td>\n",
              "      <td>China</td>\n",
              "      <td>Municipality</td>\n",
              "      <td>30752000</td>\n",
              "      <td>82403</td>\n",
              "      <td>30752000</td>\n",
              "      <td>82403</td>\n",
              "      <td>8300000</td>\n",
              "      <td>1489</td>\n",
              "    </tr>\n",
              "    <tr>\n",
              "      <th>1</th>\n",
              "      <td>Shanghai</td>\n",
              "      <td>China</td>\n",
              "      <td>Municipality</td>\n",
              "      <td>24183000</td>\n",
              "      <td>6341</td>\n",
              "      <td>24183000</td>\n",
              "      <td>6341</td>\n",
              "      <td>22125000</td>\n",
              "      <td>4015</td>\n",
              "    </tr>\n",
              "    <tr>\n",
              "      <th>2</th>\n",
              "      <td>Beijing</td>\n",
              "      <td>China</td>\n",
              "      <td>Municipality</td>\n",
              "      <td>21707000</td>\n",
              "      <td>16411</td>\n",
              "      <td>21707000</td>\n",
              "      <td>16411</td>\n",
              "      <td>19430000</td>\n",
              "      <td>4144</td>\n",
              "    </tr>\n",
              "    <tr>\n",
              "      <th>3</th>\n",
              "      <td>Delhi</td>\n",
              "      <td>India</td>\n",
              "      <td>National capital territory</td>\n",
              "      <td>16753235</td>\n",
              "      <td>1484</td>\n",
              "      <td>29000000</td>\n",
              "      <td>3483</td>\n",
              "      <td>28125000</td>\n",
              "      <td>2240</td>\n",
              "    </tr>\n",
              "    <tr>\n",
              "      <th>4</th>\n",
              "      <td>Chengdu</td>\n",
              "      <td>China</td>\n",
              "      <td>City (sub-provincial)</td>\n",
              "      <td>16044700</td>\n",
              "      <td>14378</td>\n",
              "      <td>16044700</td>\n",
              "      <td>14378</td>\n",
              "      <td>12160000</td>\n",
              "      <td>1813</td>\n",
              "    </tr>\n",
              "  </tbody>\n",
              "</table>\n",
              "</div>"
            ]
          },
          "metadata": {}
        }
      ],
      "execution_count": 143,
      "metadata": {
        "collapsed": false,
        "jupyter": {
          "source_hidden": false,
          "outputs_hidden": false
        },
        "nteract": {
          "transient": {
            "deleting": false
          }
        },
        "execution": {
          "iopub.status.busy": "2020-03-19T00:40:34.380Z",
          "iopub.execute_input": "2020-03-19T00:40:34.383Z",
          "iopub.status.idle": "2020-03-19T00:40:34.390Z",
          "shell.execute_reply": "2020-03-19T00:40:34.394Z"
        }
      }
    },
    {
      "cell_type": "code",
      "source": [
        "cities_df.describe(include='all')"
      ],
      "outputs": [
        {
          "output_type": "execute_result",
          "execution_count": 147,
          "data": {
            "text/plain": [
              "          City Country City Definition  City Population  City Area(km2)  \\\n",
              "count       76      76              76     7.600000e+01       76.000000   \n",
              "unique      76      33              25              NaN             NaN   \n",
              "top     Dallas   China    Municipality              NaN             NaN   \n",
              "freq         1      22              19              NaN             NaN   \n",
              "mean       NaN     NaN             NaN     8.224308e+06     5685.013158   \n",
              "std        NaN     NaN             NaN     5.656770e+06    11988.741757   \n",
              "min        NaN     NaN             NaN     2.364530e+05       22.000000   \n",
              "25%        NaN     NaN             NaN     3.106918e+06      407.250000   \n",
              "50%        NaN     NaN             NaN     8.318250e+06     1537.000000   \n",
              "75%        NaN     NaN             NaN     1.090192e+07     6401.250000   \n",
              "max        NaN     NaN             NaN     3.075200e+07    82403.000000   \n",
              "\n",
              "        Metropolitan Population  Metropolitan Area(km2)  Urban Population  \\\n",
              "count              7.600000e+01               76.000000      7.600000e+01   \n",
              "unique                      NaN                     NaN               NaN   \n",
              "top                         NaN                     NaN               NaN   \n",
              "freq                        NaN                     NaN               NaN   \n",
              "mean               1.188086e+07             8820.671053      1.181204e+07   \n",
              "std                7.129669e+06            11946.137187      7.314714e+06   \n",
              "min                1.555985e+06              105.000000      1.250000e+06   \n",
              "25%                7.253175e+06             1831.250000      6.652500e+06   \n",
              "50%                9.570169e+06             6133.500000      9.457500e+06   \n",
              "75%                1.440405e+07            12079.750000      1.527125e+07   \n",
              "max                3.727400e+07            82403.000000      3.850500e+07   \n",
              "\n",
              "        Urban Area(km2)  \n",
              "count         76.000000  \n",
              "unique              NaN  \n",
              "top                 NaN  \n",
              "freq                NaN  \n",
              "mean        2305.815789  \n",
              "std         2125.370228  \n",
              "min          220.000000  \n",
              "25%          964.750000  \n",
              "50%         1651.500000  \n",
              "75%         2850.000000  \n",
              "max        11875.000000  "
            ],
            "text/html": [
              "<div>\n",
              "<style scoped>\n",
              "    .dataframe tbody tr th:only-of-type {\n",
              "        vertical-align: middle;\n",
              "    }\n",
              "\n",
              "    .dataframe tbody tr th {\n",
              "        vertical-align: top;\n",
              "    }\n",
              "\n",
              "    .dataframe thead th {\n",
              "        text-align: right;\n",
              "    }\n",
              "</style>\n",
              "<table border=\"1\" class=\"dataframe\">\n",
              "  <thead>\n",
              "    <tr style=\"text-align: right;\">\n",
              "      <th></th>\n",
              "      <th>City</th>\n",
              "      <th>Country</th>\n",
              "      <th>City Definition</th>\n",
              "      <th>City Population</th>\n",
              "      <th>City Area(km2)</th>\n",
              "      <th>Metropolitan Population</th>\n",
              "      <th>Metropolitan Area(km2)</th>\n",
              "      <th>Urban Population</th>\n",
              "      <th>Urban Area(km2)</th>\n",
              "    </tr>\n",
              "  </thead>\n",
              "  <tbody>\n",
              "    <tr>\n",
              "      <th>count</th>\n",
              "      <td>76</td>\n",
              "      <td>76</td>\n",
              "      <td>76</td>\n",
              "      <td>7.600000e+01</td>\n",
              "      <td>76.000000</td>\n",
              "      <td>7.600000e+01</td>\n",
              "      <td>76.000000</td>\n",
              "      <td>7.600000e+01</td>\n",
              "      <td>76.000000</td>\n",
              "    </tr>\n",
              "    <tr>\n",
              "      <th>unique</th>\n",
              "      <td>76</td>\n",
              "      <td>33</td>\n",
              "      <td>25</td>\n",
              "      <td>NaN</td>\n",
              "      <td>NaN</td>\n",
              "      <td>NaN</td>\n",
              "      <td>NaN</td>\n",
              "      <td>NaN</td>\n",
              "      <td>NaN</td>\n",
              "    </tr>\n",
              "    <tr>\n",
              "      <th>top</th>\n",
              "      <td>Dallas</td>\n",
              "      <td>China</td>\n",
              "      <td>Municipality</td>\n",
              "      <td>NaN</td>\n",
              "      <td>NaN</td>\n",
              "      <td>NaN</td>\n",
              "      <td>NaN</td>\n",
              "      <td>NaN</td>\n",
              "      <td>NaN</td>\n",
              "    </tr>\n",
              "    <tr>\n",
              "      <th>freq</th>\n",
              "      <td>1</td>\n",
              "      <td>22</td>\n",
              "      <td>19</td>\n",
              "      <td>NaN</td>\n",
              "      <td>NaN</td>\n",
              "      <td>NaN</td>\n",
              "      <td>NaN</td>\n",
              "      <td>NaN</td>\n",
              "      <td>NaN</td>\n",
              "    </tr>\n",
              "    <tr>\n",
              "      <th>mean</th>\n",
              "      <td>NaN</td>\n",
              "      <td>NaN</td>\n",
              "      <td>NaN</td>\n",
              "      <td>8.224308e+06</td>\n",
              "      <td>5685.013158</td>\n",
              "      <td>1.188086e+07</td>\n",
              "      <td>8820.671053</td>\n",
              "      <td>1.181204e+07</td>\n",
              "      <td>2305.815789</td>\n",
              "    </tr>\n",
              "    <tr>\n",
              "      <th>std</th>\n",
              "      <td>NaN</td>\n",
              "      <td>NaN</td>\n",
              "      <td>NaN</td>\n",
              "      <td>5.656770e+06</td>\n",
              "      <td>11988.741757</td>\n",
              "      <td>7.129669e+06</td>\n",
              "      <td>11946.137187</td>\n",
              "      <td>7.314714e+06</td>\n",
              "      <td>2125.370228</td>\n",
              "    </tr>\n",
              "    <tr>\n",
              "      <th>min</th>\n",
              "      <td>NaN</td>\n",
              "      <td>NaN</td>\n",
              "      <td>NaN</td>\n",
              "      <td>2.364530e+05</td>\n",
              "      <td>22.000000</td>\n",
              "      <td>1.555985e+06</td>\n",
              "      <td>105.000000</td>\n",
              "      <td>1.250000e+06</td>\n",
              "      <td>220.000000</td>\n",
              "    </tr>\n",
              "    <tr>\n",
              "      <th>25%</th>\n",
              "      <td>NaN</td>\n",
              "      <td>NaN</td>\n",
              "      <td>NaN</td>\n",
              "      <td>3.106918e+06</td>\n",
              "      <td>407.250000</td>\n",
              "      <td>7.253175e+06</td>\n",
              "      <td>1831.250000</td>\n",
              "      <td>6.652500e+06</td>\n",
              "      <td>964.750000</td>\n",
              "    </tr>\n",
              "    <tr>\n",
              "      <th>50%</th>\n",
              "      <td>NaN</td>\n",
              "      <td>NaN</td>\n",
              "      <td>NaN</td>\n",
              "      <td>8.318250e+06</td>\n",
              "      <td>1537.000000</td>\n",
              "      <td>9.570169e+06</td>\n",
              "      <td>6133.500000</td>\n",
              "      <td>9.457500e+06</td>\n",
              "      <td>1651.500000</td>\n",
              "    </tr>\n",
              "    <tr>\n",
              "      <th>75%</th>\n",
              "      <td>NaN</td>\n",
              "      <td>NaN</td>\n",
              "      <td>NaN</td>\n",
              "      <td>1.090192e+07</td>\n",
              "      <td>6401.250000</td>\n",
              "      <td>1.440405e+07</td>\n",
              "      <td>12079.750000</td>\n",
              "      <td>1.527125e+07</td>\n",
              "      <td>2850.000000</td>\n",
              "    </tr>\n",
              "    <tr>\n",
              "      <th>max</th>\n",
              "      <td>NaN</td>\n",
              "      <td>NaN</td>\n",
              "      <td>NaN</td>\n",
              "      <td>3.075200e+07</td>\n",
              "      <td>82403.000000</td>\n",
              "      <td>3.727400e+07</td>\n",
              "      <td>82403.000000</td>\n",
              "      <td>3.850500e+07</td>\n",
              "      <td>11875.000000</td>\n",
              "    </tr>\n",
              "  </tbody>\n",
              "</table>\n",
              "</div>"
            ]
          },
          "metadata": {}
        }
      ],
      "execution_count": 147,
      "metadata": {
        "collapsed": false,
        "jupyter": {
          "source_hidden": false,
          "outputs_hidden": false
        },
        "nteract": {
          "transient": {
            "deleting": false
          }
        },
        "execution": {
          "iopub.status.busy": "2020-03-19T00:43:26.644Z",
          "iopub.execute_input": "2020-03-19T00:43:26.692Z",
          "iopub.status.idle": "2020-03-19T00:43:26.716Z",
          "shell.execute_reply": "2020-03-19T00:43:26.740Z"
        }
      }
    },
    {
      "cell_type": "markdown",
      "source": [
        "### Population size and number of cities per country"
      ],
      "metadata": {
        "nteract": {
          "transient": {
            "deleting": false
          }
        }
      }
    },
    {
      "cell_type": "code",
      "source": [
        "countries = cities_df[['City', 'Country', 'City Population']].groupby('Country').sum().sort_values(by='City Population', ascending=False).rename(columns={'City Population': 'Cities Population'})\n",
        "countries['Cities'] = cities_df[['City', 'Country']].groupby('Country').count()\n",
        "countries.head(10)"
      ],
      "outputs": [
        {
          "output_type": "execute_result",
          "execution_count": 187,
          "data": {
            "text/plain": [
              "               Cities Population  Cities\n",
              "Country                                 \n",
              "China                  279153800      22\n",
              "India                   69054182       9\n",
              "Pakistan                26036352       2\n",
              "United States           21046090       8\n",
              "Brazil                  18772023       2\n",
              "Japan                   18560638       3\n",
              "Indonesia               15482229       3\n",
              "Turkey                  15029231       1\n",
              "Vietnam                 14663700       2\n",
              "Bangladesh              14399000       1"
            ],
            "text/html": [
              "<div>\n",
              "<style scoped>\n",
              "    .dataframe tbody tr th:only-of-type {\n",
              "        vertical-align: middle;\n",
              "    }\n",
              "\n",
              "    .dataframe tbody tr th {\n",
              "        vertical-align: top;\n",
              "    }\n",
              "\n",
              "    .dataframe thead th {\n",
              "        text-align: right;\n",
              "    }\n",
              "</style>\n",
              "<table border=\"1\" class=\"dataframe\">\n",
              "  <thead>\n",
              "    <tr style=\"text-align: right;\">\n",
              "      <th></th>\n",
              "      <th>Cities Population</th>\n",
              "      <th>Cities</th>\n",
              "    </tr>\n",
              "    <tr>\n",
              "      <th>Country</th>\n",
              "      <th></th>\n",
              "      <th></th>\n",
              "    </tr>\n",
              "  </thead>\n",
              "  <tbody>\n",
              "    <tr>\n",
              "      <th>China</th>\n",
              "      <td>279153800</td>\n",
              "      <td>22</td>\n",
              "    </tr>\n",
              "    <tr>\n",
              "      <th>India</th>\n",
              "      <td>69054182</td>\n",
              "      <td>9</td>\n",
              "    </tr>\n",
              "    <tr>\n",
              "      <th>Pakistan</th>\n",
              "      <td>26036352</td>\n",
              "      <td>2</td>\n",
              "    </tr>\n",
              "    <tr>\n",
              "      <th>United States</th>\n",
              "      <td>21046090</td>\n",
              "      <td>8</td>\n",
              "    </tr>\n",
              "    <tr>\n",
              "      <th>Brazil</th>\n",
              "      <td>18772023</td>\n",
              "      <td>2</td>\n",
              "    </tr>\n",
              "    <tr>\n",
              "      <th>Japan</th>\n",
              "      <td>18560638</td>\n",
              "      <td>3</td>\n",
              "    </tr>\n",
              "    <tr>\n",
              "      <th>Indonesia</th>\n",
              "      <td>15482229</td>\n",
              "      <td>3</td>\n",
              "    </tr>\n",
              "    <tr>\n",
              "      <th>Turkey</th>\n",
              "      <td>15029231</td>\n",
              "      <td>1</td>\n",
              "    </tr>\n",
              "    <tr>\n",
              "      <th>Vietnam</th>\n",
              "      <td>14663700</td>\n",
              "      <td>2</td>\n",
              "    </tr>\n",
              "    <tr>\n",
              "      <th>Bangladesh</th>\n",
              "      <td>14399000</td>\n",
              "      <td>1</td>\n",
              "    </tr>\n",
              "  </tbody>\n",
              "</table>\n",
              "</div>"
            ]
          },
          "metadata": {}
        }
      ],
      "execution_count": 187,
      "metadata": {
        "collapsed": false,
        "jupyter": {
          "source_hidden": false,
          "outputs_hidden": false
        },
        "nteract": {
          "transient": {
            "deleting": false
          }
        },
        "execution": {
          "iopub.status.busy": "2020-03-19T01:13:43.165Z",
          "iopub.execute_input": "2020-03-19T01:13:43.176Z",
          "iopub.status.idle": "2020-03-19T01:13:43.188Z",
          "shell.execute_reply": "2020-03-19T01:13:43.205Z"
        }
      }
    },
    {
      "cell_type": "code",
      "source": [
        "print('There are {} cities on the dataset, from {} countries.'.format(countries['Cities'].sum(), countries['Cities'].count()))"
      ],
      "outputs": [
        {
          "output_type": "stream",
          "name": "stdout",
          "text": [
            "There are 76 cities on the dataset, from 33 countries.\n"
          ]
        }
      ],
      "execution_count": 260,
      "metadata": {
        "collapsed": false,
        "jupyter": {
          "source_hidden": false,
          "outputs_hidden": false
        },
        "nteract": {
          "transient": {
            "deleting": false
          }
        },
        "execution": {
          "iopub.status.busy": "2020-03-19T02:00:55.804Z",
          "iopub.execute_input": "2020-03-19T02:00:55.809Z",
          "iopub.status.idle": "2020-03-19T02:00:55.818Z",
          "shell.execute_reply": "2020-03-19T02:00:55.823Z"
        }
      }
    },
    {
      "cell_type": "code",
      "source": [
        "fig, ax = plt.subplots(figsize=(10, 8))\n",
        "sns.barplot(x=countries[:10].index, y='Cities', data=countries[:10].sort_values('Cities', ascending=False))\n",
        "plt.ylabel('Number of cities', fontsize=12)\n",
        "plt.xlabel('Countries', fontsize=12)\n",
        "plt.title('Number of cities per country among the top 75 biggets cities', fontsize=14);"
      ],
      "outputs": [
        {
          "output_type": "display_data",
          "data": {
            "text/plain": [
              "<Figure size 720x576 with 1 Axes>"
            ],
            "image/png": "[encoded data removed]"
          },
          "metadata": {
            "needs_background": "light"
          }
        }
      ],
      "execution_count": 254,
      "metadata": {
        "collapsed": false,
        "jupyter": {
          "source_hidden": false,
          "outputs_hidden": false
        },
        "nteract": {
          "transient": {
            "deleting": false
          }
        },
        "execution": {
          "iopub.status.busy": "2020-03-19T01:53:42.122Z",
          "iopub.execute_input": "2020-03-19T01:53:42.128Z",
          "iopub.status.idle": "2020-03-19T01:53:42.358Z",
          "shell.execute_reply": "2020-03-19T01:53:42.369Z"
        }
      }
    },
    {
      "cell_type": "markdown",
      "source": [
        "As seen above, 22 out 75 of the biggest cities on the world are from China."
      ],
      "metadata": {
        "nteract": {
          "transient": {
            "deleting": false
          }
        }
      }
    },
    {
      "cell_type": "code",
      "source": [
        "countries[:5]['Cities'].sum()"
      ],
      "outputs": [
        {
          "output_type": "execute_result",
          "execution_count": 248,
          "data": {
            "text/plain": [
              "43"
            ]
          },
          "metadata": {}
        }
      ],
      "execution_count": 248,
      "metadata": {
        "collapsed": false,
        "jupyter": {
          "source_hidden": false,
          "outputs_hidden": false
        },
        "nteract": {
          "transient": {
            "deleting": false
          }
        },
        "execution": {
          "iopub.status.busy": "2020-03-19T01:49:26.256Z",
          "iopub.execute_input": "2020-03-19T01:49:26.259Z",
          "iopub.status.idle": "2020-03-19T01:49:26.267Z",
          "shell.execute_reply": "2020-03-19T01:49:26.271Z"
        }
      }
    },
    {
      "cell_type": "code",
      "source": [
        "waffle = plt.figure(\n",
        "    FigureClass=Waffle,\n",
        "    rows=5,\n",
        "    columns=9,\n",
        "    values=countries[:5]['Cities'],\n",
        "    labels=list(countries[:5].index),\n",
        "    legend={'loc': 'lower left', 'bbox_to_anchor': (0, 0)}\n",
        ")\n",
        "plt.title('Number of cities per country', fontsize=14);\n",
        "plt.show();"
      ],
      "outputs": [
        {
          "output_type": "display_data",
          "data": {
            "text/plain": [
              "<Waffle size 432x288 with 1 Axes>"
            ],
            "image/png": "[encoded data removed]"
          },
          "metadata": {
            "needs_background": "light"
          }
        }
      ],
      "execution_count": 251,
      "metadata": {
        "collapsed": false,
        "jupyter": {
          "source_hidden": false,
          "outputs_hidden": false
        },
        "nteract": {
          "transient": {
            "deleting": false
          }
        },
        "execution": {
          "iopub.status.busy": "2020-03-19T01:50:25.693Z",
          "iopub.execute_input": "2020-03-19T01:50:25.699Z",
          "iopub.status.idle": "2020-03-19T01:50:25.902Z",
          "shell.execute_reply": "2020-03-19T01:50:25.914Z"
        }
      }
    },
    {
      "cell_type": "code",
      "source": [
        "fig, ax = plt.subplots(figsize=(10, 8))\n",
        "sns.scatterplot(x='Urban Population', y='City Population', data=cities_df[:25], hue='Country', s=200)\n",
        "plt.ticklabel_format(scilimits=(6,6), axis='both')\n",
        "plt.ylabel('Total Population (Millions)', fontsize=12)\n",
        "plt.xlabel('Urban Population (Millions)', fontsize=12)\n",
        "plt.title('To 25 biggest cities of the world', fontsize=14);"
      ],
      "outputs": [
        {
          "output_type": "display_data",
          "data": {
            "text/plain": [
              "<Figure size 720x576 with 1 Axes>"
            ],
            "image/png": "[encoded data removed]"
          },
          "metadata": {
            "needs_background": "light"
          }
        }
      ],
      "execution_count": 165,
      "metadata": {
        "collapsed": false,
        "jupyter": {
          "source_hidden": false,
          "outputs_hidden": false
        },
        "nteract": {
          "transient": {
            "deleting": false
          }
        },
        "execution": {
          "iopub.status.busy": "2020-03-19T00:54:57.586Z",
          "iopub.execute_input": "2020-03-19T00:54:57.590Z",
          "iopub.status.idle": "2020-03-19T00:54:57.919Z",
          "shell.execute_reply": "2020-03-19T00:54:57.929Z"
        },
        "outputExpanded": true
      }
    },
    {
      "cell_type": "code",
      "source": [],
      "outputs": [],
      "execution_count": null,
      "metadata": {
        "collapsed": false,
        "jupyter": {
          "source_hidden": false,
          "outputs_hidden": false
        },
        "nteract": {
          "transient": {
            "deleting": false
          }
        }
      }
    }
  ],
  "metadata": {
    "kernel_info": {
      "name": "python3"
    },
    "language_info": {
      "name": "python",
      "version": "3.7.4",
      "mimetype": "text/x-python",
      "codemirror_mode": {
        "name": "ipython",
        "version": 3
      },
      "pygments_lexer": "ipython3",
      "nbconvert_exporter": "python",
      "file_extension": ".py"
    },
    "kernelspec": {
      "argv": [
        "python",
        "-m",
        "ipykernel_launcher",
        "-f",
        "{connection_file}"
      ],
      "display_name": "Python 3",
      "language": "python",
      "name": "python3"
    },
    "nteract": {
      "version": "0.22.0"
    }
  },
  "nbformat": 4,
  "nbformat_minor": 0
}